{
 "cells": [
  {
   "cell_type": "code",
   "execution_count": 1,
   "metadata": {
    "metadata": {}
   },
   "outputs": [],
   "source": [
    "%load_ext autoreload\n",
    "%autoreload 2"
   ]
  },
  {
   "cell_type": "code",
   "execution_count": 2,
   "metadata": {
    "metadata": {}
   },
   "outputs": [
    {
     "name": "stdout",
     "output_type": "stream",
     "text": [
      "Iteration 0: -1149920.6443170214\n",
      "Iteration 1: -1147781.2638979114\n"
     ]
    }
   ],
   "source": [
    "from ldaGibbs import LDAGibbs\n",
    "\n",
    "gibbs = LDAGibbs(\n",
    "    \"ap.dat\",\n",
    "    \"ap.txt\",\n",
    "    \"vocab.txt\",\n",
    "    n_topics=10,\n",
    "    n_iter=2,\n",
    ")\n",
    "\n",
    "gibbs.fit(verbose=True, early_stop=10)"
   ]
  },
  {
   "cell_type": "code",
   "execution_count": 5,
   "metadata": {
    "metadata": {}
   },
   "outputs": [
    {
     "name": "stdout",
     "output_type": "stream",
     "text": [
      "Document:  At least 15 people died and 25,000 residents of Surat town were evacuated after torrential rains flooded the west Indian town, United News of India reported Friday. UNI said the victims lived in slum localities which were the worst affected in the deluge Thursday night. It said 25,000 slum residents lost their homes in the floods and were moved to relief camps. Surat in Gujarat state is 560 miles southwest of New Delhi. At least 50 people have drowned or died in collapsed houses across India since the monsoon broke this month, newspapers reported. Worst affected are northeastern Assam state and eastern Bihar state.\n",
      "Topic: 10\n",
      "Topic 1: suits, connections, fred, nancy, passing, intellectual, data, past, signing, recognize\n",
      "Topic 2: lesson, contributions, crews, city, plain, battle, stake, range, martin, ruffin\n",
      "Topic 3: portugal, jacksons, lock, drive, priests, milan, manuel, archaeologists, metals, denver\n",
      "Topic 4: continental, barracks, sony, post, caused, production, barrels, aircraft, businessman, syndrome\n",
      "Topic 5: billion, united, iraq, told, defense, bush, report, iraqi, time, kuwait\n",
      "Topic 6: billion, soviet, bush, company, officials, united, time, sales, union, plan\n",
      "Topic 7: party, water, bush, congress, gorbachev, dukakis, farmer, time, lake, issue\n",
      "Topic 8: followup, venus, minus, networks, lima, hail, riot, averaging, interfere, pacs\n",
      "Topic 9: challenger, western, assessment, boucher, publicist, stemming, soaring, patriarca, inflated, winner\n",
      "Topic 10: officials, united, today, time, bush, three, thursday, national, soviet, court\n"
     ]
    }
   ],
   "source": [
    "gibbs.show_topic(10)\n",
    "gibbs.show_topics(10)"
   ]
  },
  {
   "cell_type": "code",
   "execution_count": null,
   "metadata": {},
   "outputs": [],
   "source": []
  }
 ],
 "metadata": {
  "kernelspec": {
   "display_name": ".venv",
   "language": "python",
   "name": "python3"
  },
  "language_info": {
   "codemirror_mode": {
    "name": "ipython",
    "version": 3
   },
   "file_extension": ".py",
   "mimetype": "text/x-python",
   "name": "python",
   "nbconvert_exporter": "python",
   "pygments_lexer": "ipython3",
   "version": "3.12.2"
  }
 },
 "nbformat": 4,
 "nbformat_minor": 2
}
